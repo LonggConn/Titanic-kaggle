{
 "cells": [
  {
   "cell_type": "markdown",
   "id": "945da586",
   "metadata": {},
   "source": [
    "# Import thư viện"
   ]
  },
  {
   "cell_type": "code",
   "execution_count": 1,
   "id": "b3878acc",
   "metadata": {},
   "outputs": [],
   "source": [
    "import pandas as pd\n",
    "import matplotlib.pyplot as plt\n",
    "import numpy as np\n",
    "\n",
    "from sklearn.model_selection import train_test_split,StratifiedKFold\n",
    "from sklearn.preprocessing import OneHotEncoder, StandardScaler, LabelEncoder, MinMaxScaler, MaxAbsScaler \n",
    "from sklearn.impute import SimpleImputer\n",
    "from sklearn.base import BaseEstimator, TransformerMixin\n",
    "from sklearn.pipeline import Pipeline, make_pipeline\n",
    "from sklearn.compose import ColumnTransformer, make_column_transformer\n",
    "\n",
    "from sklearn.ensemble import HistGradientBoostingClassifier,GradientBoostingClassifier\n",
    "from xgboost import XGBClassifier\n",
    "from lightgbm import LGBMClassifier\n",
    "\n",
    "import warnings\n",
    "warnings.filterwarnings('ignore')\n",
    "\n",
    "from sklearn.metrics import roc_curve, auc\n",
    "from sklearn import set_config\n",
    "set_config(display='diagram') # Để trực quan hóa pipeline\n",
    "\n",
    "import seaborn as sns\n",
    "sns.set_theme(style=\"darkgrid\")"
   ]
  },
  {
   "cell_type": "markdown",
   "id": "c10d6929",
   "metadata": {},
   "source": [
    "# Khám phá dữ liệu"
   ]
  },
  {
   "cell_type": "code",
   "execution_count": 2,
   "id": "81b7e7b1",
   "metadata": {},
   "outputs": [
    {
     "data": {
      "text/html": [
       "<div>\n",
       "<style scoped>\n",
       "    .dataframe tbody tr th:only-of-type {\n",
       "        vertical-align: middle;\n",
       "    }\n",
       "\n",
       "    .dataframe tbody tr th {\n",
       "        vertical-align: top;\n",
       "    }\n",
       "\n",
       "    .dataframe thead th {\n",
       "        text-align: right;\n",
       "    }\n",
       "</style>\n",
       "<table border=\"1\" class=\"dataframe\">\n",
       "  <thead>\n",
       "    <tr style=\"text-align: right;\">\n",
       "      <th></th>\n",
       "      <th>Survived</th>\n",
       "      <th>Pclass</th>\n",
       "      <th>Name</th>\n",
       "      <th>Sex</th>\n",
       "      <th>Age</th>\n",
       "      <th>SibSp</th>\n",
       "      <th>Parch</th>\n",
       "      <th>Ticket</th>\n",
       "      <th>Fare</th>\n",
       "      <th>Cabin</th>\n",
       "      <th>Embarked</th>\n",
       "    </tr>\n",
       "    <tr>\n",
       "      <th>PassengerId</th>\n",
       "      <th></th>\n",
       "      <th></th>\n",
       "      <th></th>\n",
       "      <th></th>\n",
       "      <th></th>\n",
       "      <th></th>\n",
       "      <th></th>\n",
       "      <th></th>\n",
       "      <th></th>\n",
       "      <th></th>\n",
       "      <th></th>\n",
       "    </tr>\n",
       "  </thead>\n",
       "  <tbody>\n",
       "    <tr>\n",
       "      <th>1</th>\n",
       "      <td>0</td>\n",
       "      <td>3</td>\n",
       "      <td>Braund, Mr. Owen Harris</td>\n",
       "      <td>male</td>\n",
       "      <td>22.0</td>\n",
       "      <td>1</td>\n",
       "      <td>0</td>\n",
       "      <td>A/5 21171</td>\n",
       "      <td>7.2500</td>\n",
       "      <td>NaN</td>\n",
       "      <td>S</td>\n",
       "    </tr>\n",
       "    <tr>\n",
       "      <th>2</th>\n",
       "      <td>1</td>\n",
       "      <td>1</td>\n",
       "      <td>Cumings, Mrs. John Bradley (Florence Briggs Th...</td>\n",
       "      <td>female</td>\n",
       "      <td>38.0</td>\n",
       "      <td>1</td>\n",
       "      <td>0</td>\n",
       "      <td>PC 17599</td>\n",
       "      <td>71.2833</td>\n",
       "      <td>C85</td>\n",
       "      <td>C</td>\n",
       "    </tr>\n",
       "    <tr>\n",
       "      <th>3</th>\n",
       "      <td>1</td>\n",
       "      <td>3</td>\n",
       "      <td>Heikkinen, Miss. Laina</td>\n",
       "      <td>female</td>\n",
       "      <td>26.0</td>\n",
       "      <td>0</td>\n",
       "      <td>0</td>\n",
       "      <td>STON/O2. 3101282</td>\n",
       "      <td>7.9250</td>\n",
       "      <td>NaN</td>\n",
       "      <td>S</td>\n",
       "    </tr>\n",
       "    <tr>\n",
       "      <th>4</th>\n",
       "      <td>1</td>\n",
       "      <td>1</td>\n",
       "      <td>Futrelle, Mrs. Jacques Heath (Lily May Peel)</td>\n",
       "      <td>female</td>\n",
       "      <td>35.0</td>\n",
       "      <td>1</td>\n",
       "      <td>0</td>\n",
       "      <td>113803</td>\n",
       "      <td>53.1000</td>\n",
       "      <td>C123</td>\n",
       "      <td>S</td>\n",
       "    </tr>\n",
       "    <tr>\n",
       "      <th>5</th>\n",
       "      <td>0</td>\n",
       "      <td>3</td>\n",
       "      <td>Allen, Mr. William Henry</td>\n",
       "      <td>male</td>\n",
       "      <td>35.0</td>\n",
       "      <td>0</td>\n",
       "      <td>0</td>\n",
       "      <td>373450</td>\n",
       "      <td>8.0500</td>\n",
       "      <td>NaN</td>\n",
       "      <td>S</td>\n",
       "    </tr>\n",
       "  </tbody>\n",
       "</table>\n",
       "</div>"
      ],
      "text/plain": [
       "             Survived  Pclass  \\\n",
       "PassengerId                     \n",
       "1                   0       3   \n",
       "2                   1       1   \n",
       "3                   1       3   \n",
       "4                   1       1   \n",
       "5                   0       3   \n",
       "\n",
       "                                                          Name     Sex   Age  \\\n",
       "PassengerId                                                                    \n",
       "1                                      Braund, Mr. Owen Harris    male  22.0   \n",
       "2            Cumings, Mrs. John Bradley (Florence Briggs Th...  female  38.0   \n",
       "3                                       Heikkinen, Miss. Laina  female  26.0   \n",
       "4                 Futrelle, Mrs. Jacques Heath (Lily May Peel)  female  35.0   \n",
       "5                                     Allen, Mr. William Henry    male  35.0   \n",
       "\n",
       "             SibSp  Parch            Ticket     Fare Cabin Embarked  \n",
       "PassengerId                                                          \n",
       "1                1      0         A/5 21171   7.2500   NaN        S  \n",
       "2                1      0          PC 17599  71.2833   C85        C  \n",
       "3                0      0  STON/O2. 3101282   7.9250   NaN        S  \n",
       "4                1      0            113803  53.1000  C123        S  \n",
       "5                0      0            373450   8.0500   NaN        S  "
      ]
     },
     "execution_count": 2,
     "metadata": {},
     "output_type": "execute_result"
    }
   ],
   "source": [
    "data_df = pd.read_csv('train.csv', index_col=0)\n",
    "data_df.head()"
   ]
  },
  {
   "cell_type": "markdown",
   "id": "c87348ce",
   "metadata": {},
   "source": [
    "# Tiền xử lý"
   ]
  },
  {
   "cell_type": "markdown",
   "id": "a1bb6eab",
   "metadata": {},
   "source": [
    "## Tách label dự đoán ra khỏi tập training"
   ]
  },
  {
   "cell_type": "code",
   "execution_count": 3,
   "id": "aec3fe62",
   "metadata": {},
   "outputs": [],
   "source": [
    "y_df = data_df[\"Survived\"]\n",
    "X_df = data_df.drop(\"Survived\", axis=1)"
   ]
  },
  {
   "cell_type": "markdown",
   "id": "6c12dc1c",
   "metadata": {},
   "source": [
    "## Khám phá dữ liệu"
   ]
  },
  {
   "cell_type": "code",
   "execution_count": 4,
   "id": "a510a5ec",
   "metadata": {},
   "outputs": [
    {
     "data": {
      "text/html": [
       "<div>\n",
       "<style scoped>\n",
       "    .dataframe tbody tr th:only-of-type {\n",
       "        vertical-align: middle;\n",
       "    }\n",
       "\n",
       "    .dataframe tbody tr th {\n",
       "        vertical-align: top;\n",
       "    }\n",
       "\n",
       "    .dataframe thead th {\n",
       "        text-align: right;\n",
       "    }\n",
       "</style>\n",
       "<table border=\"1\" class=\"dataframe\">\n",
       "  <thead>\n",
       "    <tr style=\"text-align: right;\">\n",
       "      <th></th>\n",
       "      <th>Age</th>\n",
       "      <th>SibSp</th>\n",
       "      <th>Parch</th>\n",
       "      <th>Fare</th>\n",
       "      <th>Pclass</th>\n",
       "    </tr>\n",
       "  </thead>\n",
       "  <tbody>\n",
       "    <tr>\n",
       "      <th>missing_ratio</th>\n",
       "      <td>19.90</td>\n",
       "      <td>0.0</td>\n",
       "      <td>0.0</td>\n",
       "      <td>0.0000</td>\n",
       "      <td>0.0</td>\n",
       "    </tr>\n",
       "    <tr>\n",
       "      <th>min</th>\n",
       "      <td>0.42</td>\n",
       "      <td>0.0</td>\n",
       "      <td>0.0</td>\n",
       "      <td>0.0000</td>\n",
       "      <td>1.0</td>\n",
       "    </tr>\n",
       "    <tr>\n",
       "      <th>lower_quartile</th>\n",
       "      <td>20.10</td>\n",
       "      <td>0.0</td>\n",
       "      <td>0.0</td>\n",
       "      <td>7.9000</td>\n",
       "      <td>2.0</td>\n",
       "    </tr>\n",
       "    <tr>\n",
       "      <th>median</th>\n",
       "      <td>28.00</td>\n",
       "      <td>0.0</td>\n",
       "      <td>0.0</td>\n",
       "      <td>14.5000</td>\n",
       "      <td>3.0</td>\n",
       "    </tr>\n",
       "    <tr>\n",
       "      <th>upper_quartile</th>\n",
       "      <td>38.00</td>\n",
       "      <td>1.0</td>\n",
       "      <td>0.0</td>\n",
       "      <td>31.0000</td>\n",
       "      <td>3.0</td>\n",
       "    </tr>\n",
       "    <tr>\n",
       "      <th>max</th>\n",
       "      <td>80.00</td>\n",
       "      <td>8.0</td>\n",
       "      <td>6.0</td>\n",
       "      <td>512.3292</td>\n",
       "      <td>3.0</td>\n",
       "    </tr>\n",
       "  </tbody>\n",
       "</table>\n",
       "</div>"
      ],
      "text/plain": [
       "                  Age  SibSp  Parch      Fare  Pclass\n",
       "missing_ratio   19.90    0.0    0.0    0.0000     0.0\n",
       "min              0.42    0.0    0.0    0.0000     1.0\n",
       "lower_quartile  20.10    0.0    0.0    7.9000     2.0\n",
       "median          28.00    0.0    0.0   14.5000     3.0\n",
       "upper_quartile  38.00    1.0    0.0   31.0000     3.0\n",
       "max             80.00    8.0    6.0  512.3292     3.0"
      ]
     },
     "execution_count": 4,
     "metadata": {},
     "output_type": "execute_result"
    }
   ],
   "source": [
    "num_cols = ['Age', 'SibSp', 'Parch', 'Fare','Pclass']\n",
    "df = X_df[num_cols]\n",
    "def missing_ratio(df):\n",
    "    return (df.isna().mean() * 100).round(1)\n",
    "def lower_quartile(df):\n",
    "    return df.quantile(0.25).round(1)\n",
    "def median(df):\n",
    "    return df.quantile(0.5).round(1)\n",
    "def upper_quartile(df):\n",
    "    return df.quantile(0.75).round(1)\n",
    "df.agg([missing_ratio, 'min', lower_quartile, median, upper_quartile, 'max'])"
   ]
  },
  {
   "cell_type": "markdown",
   "id": "cc96aef3",
   "metadata": {},
   "source": [
    "Như chúng ta thấy cột tuổi có khá nhiều giá trị thiếu"
   ]
  },
  {
   "cell_type": "code",
   "execution_count": 5,
   "id": "30833b23",
   "metadata": {},
   "outputs": [
    {
     "data": {
      "text/html": [
       "<div>\n",
       "<style scoped>\n",
       "    .dataframe tbody tr th:only-of-type {\n",
       "        vertical-align: middle;\n",
       "    }\n",
       "\n",
       "    .dataframe tbody tr th {\n",
       "        vertical-align: top;\n",
       "    }\n",
       "\n",
       "    .dataframe thead th {\n",
       "        text-align: right;\n",
       "    }\n",
       "</style>\n",
       "<table border=\"1\" class=\"dataframe\">\n",
       "  <thead>\n",
       "    <tr style=\"text-align: right;\">\n",
       "      <th></th>\n",
       "      <th>Name</th>\n",
       "      <th>Embarked</th>\n",
       "      <th>Cabin</th>\n",
       "      <th>Sex</th>\n",
       "      <th>Ticket</th>\n",
       "    </tr>\n",
       "  </thead>\n",
       "  <tbody>\n",
       "    <tr>\n",
       "      <th>missing_ratio</th>\n",
       "      <td>0.0</td>\n",
       "      <td>0.2</td>\n",
       "      <td>77.1</td>\n",
       "      <td>0.0</td>\n",
       "      <td>0.0</td>\n",
       "    </tr>\n",
       "    <tr>\n",
       "      <th>num_values</th>\n",
       "      <td>891</td>\n",
       "      <td>3</td>\n",
       "      <td>147</td>\n",
       "      <td>2</td>\n",
       "      <td>681</td>\n",
       "    </tr>\n",
       "    <tr>\n",
       "      <th>value_ratios</th>\n",
       "      <td>{'Braund, Mr. Owen Harris': 0.1, 'Boulos, Mr. Hanna': 0.1, 'Frolicher-Stehli, Mr. Maxmillian': 0.1, 'Gilinski, Mr. Eliezer': 0.1, 'Murdlin, Mr. Joseph': 0.1, 'Rintamaki, Mr. Matti': 0.1, 'Stephens...</td>\n",
       "      <td>{'S': 72.4, 'C': 18.9, 'Q': 8.7}</td>\n",
       "      <td>{'B96 B98': 2.0, 'G6': 2.0, 'C23 C25 C27': 2.0, 'C22 C26': 1.5, 'F33': 1.5, 'F2': 1.5, 'E101': 1.5, 'D': 1.5, 'C78': 1.0, 'C93': 1.0, 'E8': 1.0, 'D36': 1.0, 'B77': 1.0, 'C123': 1.0, 'E121': 1.0, '...</td>\n",
       "      <td>{'male': 64.8, 'female': 35.2}</td>\n",
       "      <td>{'347082': 0.8, 'CA. 2343': 0.8, '1601': 0.8, '3101295': 0.7, 'CA 2144': 0.7, '347088': 0.7, 'S.O.C. 14879': 0.6, '382652': 0.6, 'LINE': 0.4, 'PC 17757': 0.4, '17421': 0.4, '349909': 0.4, '113760'...</td>\n",
       "    </tr>\n",
       "  </tbody>\n",
       "</table>\n",
       "</div>"
      ],
      "text/plain": [
       "                                                                                                                                                                                                                  Name  \\\n",
       "missing_ratio                                                                                                                                                                                                      0.0   \n",
       "num_values                                                                                                                                                                                                         891   \n",
       "value_ratios   {'Braund, Mr. Owen Harris': 0.1, 'Boulos, Mr. Hanna': 0.1, 'Frolicher-Stehli, Mr. Maxmillian': 0.1, 'Gilinski, Mr. Eliezer': 0.1, 'Murdlin, Mr. Joseph': 0.1, 'Rintamaki, Mr. Matti': 0.1, 'Stephens...   \n",
       "\n",
       "                                       Embarked  \\\n",
       "missing_ratio                               0.2   \n",
       "num_values                                    3   \n",
       "value_ratios   {'S': 72.4, 'C': 18.9, 'Q': 8.7}   \n",
       "\n",
       "                                                                                                                                                                                                                 Cabin  \\\n",
       "missing_ratio                                                                                                                                                                                                     77.1   \n",
       "num_values                                                                                                                                                                                                         147   \n",
       "value_ratios   {'B96 B98': 2.0, 'G6': 2.0, 'C23 C25 C27': 2.0, 'C22 C26': 1.5, 'F33': 1.5, 'F2': 1.5, 'E101': 1.5, 'D': 1.5, 'C78': 1.0, 'C93': 1.0, 'E8': 1.0, 'D36': 1.0, 'B77': 1.0, 'C123': 1.0, 'E121': 1.0, '...   \n",
       "\n",
       "                                          Sex  \\\n",
       "missing_ratio                             0.0   \n",
       "num_values                                  2   \n",
       "value_ratios   {'male': 64.8, 'female': 35.2}   \n",
       "\n",
       "                                                                                                                                                                                                                Ticket  \n",
       "missing_ratio                                                                                                                                                                                                      0.0  \n",
       "num_values                                                                                                                                                                                                         681  \n",
       "value_ratios   {'347082': 0.8, 'CA. 2343': 0.8, '1601': 0.8, '3101295': 0.7, 'CA 2144': 0.7, '347088': 0.7, 'S.O.C. 14879': 0.6, '382652': 0.6, 'LINE': 0.4, 'PC 17757': 0.4, '17421': 0.4, '349909': 0.4, '113760'...  "
      ]
     },
     "execution_count": 5,
     "metadata": {},
     "output_type": "execute_result"
    }
   ],
   "source": [
    "pd.set_option('display.max_colwidth', 200) # Để nhìn rõ hơn\n",
    "cat_cols = list(set(X_df.columns) - set(num_cols))\n",
    "df = X_df[cat_cols]\n",
    "def missing_ratio(df):\n",
    "    return (df.isna().mean() * 100).round(1)\n",
    "def num_values(df):\n",
    "    return df.nunique()\n",
    "def value_ratios(c):\n",
    "    return dict((c.value_counts(normalize=True) * 100).round(1))\n",
    "df.agg([missing_ratio, num_values, value_ratios])"
   ]
  },
  {
   "cell_type": "markdown",
   "id": "d24cbbcd",
   "metadata": {},
   "source": [
    "Cột cabin có quá nhiều giá trị thiếu còn lại cũng không có gì đặc biệt"
   ]
  },
  {
   "cell_type": "code",
   "execution_count": 6,
   "id": "4627d2e7",
   "metadata": {},
   "outputs": [
    {
     "data": {
      "image/png": "[encoded data removed]",
      "text/plain": [
       "<Figure size 432x288 with 1 Axes>"
      ]
     },
     "metadata": {},
     "output_type": "display_data"
    }
   ],
   "source": [
    "sns.histplot(data=data_df['Fare'], kde=True)\n",
    "plt.title('Số lượng hành khách theo giá vé');"
   ]
  },
  {
   "cell_type": "markdown",
   "id": "7e7bfa6c",
   "metadata": {},
   "source": [
    "Cột fare có một cột mang giá trị lớn hơn khá nhiều so với các cột còn lại nên chúng ta không cần xử lý bằng cách chia nhỏ theo số lượng hành khách"
   ]
  },
  {
   "cell_type": "code",
   "execution_count": 7,
   "id": "c5a24f36",
   "metadata": {},
   "outputs": [
    {
     "data": {
      "image/png": "[encoded data removed]",
      "text/plain": [
       "<Figure size 432x288 with 1 Axes>"
      ]
     },
     "metadata": {},
     "output_type": "display_data"
    }
   ],
   "source": [
    "sns.histplot(data=data_df, x='Age', hue='Survived', kde = True)\n",
    "plt.title('Số lượng người tử vong và sống sót tính theo tuổi');"
   ]
  },
  {
   "cell_type": "markdown",
   "id": "1e61f89f",
   "metadata": {},
   "source": [
    "Ở đây chúng ta có thể thấy những trẻ em từ 10-11 tuổi trở xuống có tỉ lệ sống sót cao hơn hẳn người lớn"
   ]
  },
  {
   "cell_type": "code",
   "execution_count": 8,
   "id": "de8c4f5e",
   "metadata": {},
   "outputs": [
    {
     "data": {
      "image/png": "[encoded data removed]",
      "text/plain": [
       "<Figure size 432x288 with 1 Axes>"
      ]
     },
     "metadata": {},
     "output_type": "display_data"
    }
   ],
   "source": [
    "family = data_df['Parch'] + data_df['SibSp'] + 1\n",
    "sns.countplot(data=data_df, x=family, hue='Survived')\n",
    "plt.title('Số lượng người tử vong và sống sót tính theo số lượng người thân trong gia đình');"
   ]
  },
  {
   "cell_type": "markdown",
   "id": "3a2a6b18",
   "metadata": {},
   "source": [
    "Ở đây chúng ta có thể thấy được sự khác biệt của nhóm tuổi từ 2 đến 4 so với phần còn lại"
   ]
  },
  {
   "cell_type": "code",
   "execution_count": 9,
   "id": "a6629ae1",
   "metadata": {},
   "outputs": [
    {
     "data": {
      "text/html": [
       "<div>\n",
       "<style scoped>\n",
       "    .dataframe tbody tr th:only-of-type {\n",
       "        vertical-align: middle;\n",
       "    }\n",
       "\n",
       "    .dataframe tbody tr th {\n",
       "        vertical-align: top;\n",
       "    }\n",
       "\n",
       "    .dataframe thead th {\n",
       "        text-align: right;\n",
       "    }\n",
       "</style>\n",
       "<table border=\"1\" class=\"dataframe\">\n",
       "  <thead>\n",
       "    <tr style=\"text-align: right;\">\n",
       "      <th></th>\n",
       "      <th>mean</th>\n",
       "    </tr>\n",
       "    <tr>\n",
       "      <th>Pclass</th>\n",
       "      <th></th>\n",
       "    </tr>\n",
       "  </thead>\n",
       "  <tbody>\n",
       "    <tr>\n",
       "      <th>1</th>\n",
       "      <td>29.744681</td>\n",
       "    </tr>\n",
       "    <tr>\n",
       "      <th>2</th>\n",
       "      <td>22.560606</td>\n",
       "    </tr>\n",
       "    <tr>\n",
       "      <th>3</th>\n",
       "      <td>16.123188</td>\n",
       "    </tr>\n",
       "  </tbody>\n",
       "</table>\n",
       "</div>"
      ],
      "text/plain": [
       "             mean\n",
       "Pclass           \n",
       "1       29.744681\n",
       "2       22.560606\n",
       "3       16.123188"
      ]
     },
     "execution_count": 9,
     "metadata": {},
     "output_type": "execute_result"
    }
   ],
   "source": [
    "temp = data_df.copy()\n",
    "title_col = temp.Name.str.extract(r'([a-zA-z]+)\\.', expand=False)\n",
    "temp['Title'] = title_col\n",
    "temp['Title'] = temp['Title'].replace(['Capt', 'Col', 'Rev', 'Dr', 'Major'], 'Others')\n",
    "temp['Title'] = temp['Title'].replace(['Countess', 'Lady', 'Sir', 'Jonkheer', 'Dona','Don'], 'Royal')\n",
    "temp['Title'] = temp['Title'].replace('Mlle', 'Miss')\n",
    "temp['Title'] = temp['Title'].replace('Ms', 'Miss')\n",
    "temp['Title'] = temp['Title'].replace('Mme', 'Mrs')\n",
    "show = temp.groupby(['Title', 'Pclass'])['Age'].agg(['mean'])\n",
    "show.loc['Miss']"
   ]
  },
  {
   "cell_type": "code",
   "execution_count": 10,
   "id": "1231657e",
   "metadata": {},
   "outputs": [
    {
     "data": {
      "text/html": [
       "<div>\n",
       "<style scoped>\n",
       "    .dataframe tbody tr th:only-of-type {\n",
       "        vertical-align: middle;\n",
       "    }\n",
       "\n",
       "    .dataframe tbody tr th {\n",
       "        vertical-align: top;\n",
       "    }\n",
       "\n",
       "    .dataframe thead th {\n",
       "        text-align: right;\n",
       "    }\n",
       "</style>\n",
       "<table border=\"1\" class=\"dataframe\">\n",
       "  <thead>\n",
       "    <tr style=\"text-align: right;\">\n",
       "      <th></th>\n",
       "      <th>mean</th>\n",
       "    </tr>\n",
       "    <tr>\n",
       "      <th>Pclass</th>\n",
       "      <th></th>\n",
       "    </tr>\n",
       "  </thead>\n",
       "  <tbody>\n",
       "    <tr>\n",
       "      <th>1</th>\n",
       "      <td>34.258065</td>\n",
       "    </tr>\n",
       "    <tr>\n",
       "      <th>2</th>\n",
       "      <td>30.375000</td>\n",
       "    </tr>\n",
       "    <tr>\n",
       "      <th>3</th>\n",
       "      <td>21.697674</td>\n",
       "    </tr>\n",
       "  </tbody>\n",
       "</table>\n",
       "</div>"
      ],
      "text/plain": [
       "             mean\n",
       "Pclass           \n",
       "1       34.258065\n",
       "2       30.375000\n",
       "3       21.697674"
      ]
     },
     "execution_count": 10,
     "metadata": {},
     "output_type": "execute_result"
    }
   ],
   "source": [
    "temp.loc[(temp.Title=='Miss') & (temp.Parch!=0), 'Title']=\"FemaleChild\"\n",
    "show = temp.groupby(['Title', 'Pclass'])['Age'].agg(['mean'])\n",
    "show.loc['Miss']"
   ]
  },
  {
   "cell_type": "code",
   "execution_count": 11,
   "id": "8dc9900e",
   "metadata": {},
   "outputs": [
    {
     "data": {
      "text/html": [
       "<div>\n",
       "<style scoped>\n",
       "    .dataframe tbody tr th:only-of-type {\n",
       "        vertical-align: middle;\n",
       "    }\n",
       "\n",
       "    .dataframe tbody tr th {\n",
       "        vertical-align: top;\n",
       "    }\n",
       "\n",
       "    .dataframe thead th {\n",
       "        text-align: right;\n",
       "    }\n",
       "</style>\n",
       "<table border=\"1\" class=\"dataframe\">\n",
       "  <thead>\n",
       "    <tr style=\"text-align: right;\">\n",
       "      <th></th>\n",
       "      <th>mean</th>\n",
       "    </tr>\n",
       "    <tr>\n",
       "      <th>Pclass</th>\n",
       "      <th></th>\n",
       "    </tr>\n",
       "  </thead>\n",
       "  <tbody>\n",
       "    <tr>\n",
       "      <th>1</th>\n",
       "      <td>21.000000</td>\n",
       "    </tr>\n",
       "    <tr>\n",
       "      <th>2</th>\n",
       "      <td>10.538462</td>\n",
       "    </tr>\n",
       "    <tr>\n",
       "      <th>3</th>\n",
       "      <td>6.903846</td>\n",
       "    </tr>\n",
       "  </tbody>\n",
       "</table>\n",
       "</div>"
      ],
      "text/plain": [
       "             mean\n",
       "Pclass           \n",
       "1       21.000000\n",
       "2       10.538462\n",
       "3        6.903846"
      ]
     },
     "execution_count": 11,
     "metadata": {},
     "output_type": "execute_result"
    }
   ],
   "source": [
    "show.loc['FemaleChild']"
   ]
  },
  {
   "cell_type": "markdown",
   "id": "139cad86",
   "metadata": {},
   "source": [
    "Dựa vào 3 bảng chúng ta có thể thấy được việc những miss đi với bố mẹ thường xuyên là trẻ hơn và đó có thể là những trẻ em nữ vì trẻ em nam có thể gọi là master nhưng trẻ em nữ gọi chung là miss"
   ]
  },
  {
   "cell_type": "code",
   "execution_count": 12,
   "id": "f314b4c8",
   "metadata": {},
   "outputs": [
    {
     "data": {
      "text/html": [
       "<div>\n",
       "<style scoped>\n",
       "    .dataframe tbody tr th:only-of-type {\n",
       "        vertical-align: middle;\n",
       "    }\n",
       "\n",
       "    .dataframe tbody tr th {\n",
       "        vertical-align: top;\n",
       "    }\n",
       "\n",
       "    .dataframe thead th {\n",
       "        text-align: right;\n",
       "    }\n",
       "</style>\n",
       "<table border=\"1\" class=\"dataframe\">\n",
       "  <thead>\n",
       "    <tr style=\"text-align: right;\">\n",
       "      <th></th>\n",
       "      <th>mean</th>\n",
       "    </tr>\n",
       "    <tr>\n",
       "      <th>Pclass</th>\n",
       "      <th></th>\n",
       "    </tr>\n",
       "  </thead>\n",
       "  <tbody>\n",
       "    <tr>\n",
       "      <th>1</th>\n",
       "      <td>41.580460</td>\n",
       "    </tr>\n",
       "    <tr>\n",
       "      <th>2</th>\n",
       "      <td>32.768293</td>\n",
       "    </tr>\n",
       "    <tr>\n",
       "      <th>3</th>\n",
       "      <td>28.724891</td>\n",
       "    </tr>\n",
       "  </tbody>\n",
       "</table>\n",
       "</div>"
      ],
      "text/plain": [
       "             mean\n",
       "Pclass           \n",
       "1       41.580460\n",
       "2       32.768293\n",
       "3       28.724891"
      ]
     },
     "execution_count": 12,
     "metadata": {},
     "output_type": "execute_result"
    }
   ],
   "source": [
    "show.loc['Mr']"
   ]
  },
  {
   "cell_type": "code",
   "execution_count": 13,
   "id": "f00aaffe",
   "metadata": {},
   "outputs": [
    {
     "data": {
      "text/html": [
       "<div>\n",
       "<style scoped>\n",
       "    .dataframe tbody tr th:only-of-type {\n",
       "        vertical-align: middle;\n",
       "    }\n",
       "\n",
       "    .dataframe tbody tr th {\n",
       "        vertical-align: top;\n",
       "    }\n",
       "\n",
       "    .dataframe thead th {\n",
       "        text-align: right;\n",
       "    }\n",
       "</style>\n",
       "<table border=\"1\" class=\"dataframe\">\n",
       "  <thead>\n",
       "    <tr style=\"text-align: right;\">\n",
       "      <th></th>\n",
       "      <th>mean</th>\n",
       "    </tr>\n",
       "    <tr>\n",
       "      <th>Pclass</th>\n",
       "      <th></th>\n",
       "    </tr>\n",
       "  </thead>\n",
       "  <tbody>\n",
       "    <tr>\n",
       "      <th>1</th>\n",
       "      <td>5.306667</td>\n",
       "    </tr>\n",
       "    <tr>\n",
       "      <th>2</th>\n",
       "      <td>2.258889</td>\n",
       "    </tr>\n",
       "    <tr>\n",
       "      <th>3</th>\n",
       "      <td>5.350833</td>\n",
       "    </tr>\n",
       "  </tbody>\n",
       "</table>\n",
       "</div>"
      ],
      "text/plain": [
       "            mean\n",
       "Pclass          \n",
       "1       5.306667\n",
       "2       2.258889\n",
       "3       5.350833"
      ]
     },
     "execution_count": 13,
     "metadata": {},
     "output_type": "execute_result"
    }
   ],
   "source": [
    "show.loc['Master']"
   ]
  },
  {
   "cell_type": "markdown",
   "id": "412f831d",
   "metadata": {},
   "source": [
    "Vậy đúng là những trẻ em nam sẽ được gọi là master"
   ]
  },
  {
   "cell_type": "markdown",
   "id": "7f41f495",
   "metadata": {},
   "source": [
    "## Xử lý dữ liệu"
   ]
  },
  {
   "cell_type": "markdown",
   "id": "b0ce0231",
   "metadata": {},
   "source": [
    "### 1. Gom nhóm phụ nữ và trẻ em nam"
   ]
  },
  {
   "cell_type": "markdown",
   "id": "18a2b166",
   "metadata": {},
   "source": [
    "Dựa trên ý tưởng tại https://www.kaggle.com/shunjiangxu/blood-is-thicker-than-water-friendship-forever, chúng ta sẽ tìm những trẻ em nam và phụ nữ bằng title master đối với trẻ em nam và giới tính female đối với phụ nữ. Chúng ta sẽ gom nhóm họ lại bằng họ của họ. \n",
    "\n",
    "Đầu tiên chúng ta có cột FamilyTotalCount thể hiện số lượng phụ nữ và trẻ em trong cùng 1 gia đình. Tiếp theo chúng ta có cột FamilySurvivedCount để thể hiện số người còn sống sót lại trong gia đình đó. Và từ 2 cột bên trên chúng ta có thể tính ra tỉ lệ sống sót của 1 gia đình đó bằng cách lấy cột FamilySurvivedCount chia cho cột FamilyTotalCount\n",
    "\n",
    "Cuối cùng chúng ta sẽ tìm ra những người chỉ đi 1 mình. Những người đó là những người mà có FamilyTotalCount = 0"
   ]
  },
  {
   "cell_type": "code",
   "execution_count": 14,
   "id": "d14018a8",
   "metadata": {},
   "outputs": [],
   "source": [
    "class WomanBoy(BaseEstimator, TransformerMixin):\n",
    "    def __init__(self):\n",
    "        pass\n",
    "    def fit(self,X,y):        \n",
    "        Xy = X.assign(Survived = y)\n",
    "        title_col = Xy.Name.str.extract(r'([a-zA-z]+)\\.', expand=False)\n",
    "        surname_col = Xy.Name.str.extract('(.+),')\n",
    "        Xy = Xy.assign(Surname = surname_col, Title = title_col)\n",
    "        Xy['IsWomanOrChild'] = ((Xy.Title == 'Master') | (Xy.Sex == 'female'))\n",
    "        Xy['Surname'] = Xy.Name.str.split(',').str[0]\n",
    "\n",
    "        family = Xy.groupby(Xy.Surname).Survived\n",
    "        Xy['FamilyTotalCount'] = family.transform(lambda s: s[Xy.IsWomanOrChild].fillna(0).count())\n",
    "        Xy['FamilyTotalCount'] = Xy.mask(Xy.IsWomanOrChild, Xy.FamilyTotalCount - 1, axis=0).FamilyTotalCount\n",
    "        Xy['FamilySurvivedCount'] = family.transform(lambda s: s[Xy.IsWomanOrChild].fillna(0).sum())\n",
    "        Xy['FamilySurvivedCount'] = Xy.mask(Xy.IsWomanOrChild, \n",
    "                                            Xy.FamilySurvivedCount - Xy.Survived.fillna(0), axis=0).FamilySurvivedCount\n",
    "        Xy['FamilySurvivalRate'] = (Xy.FamilySurvivedCount / Xy.FamilyTotalCount.replace(0, np.nan))\n",
    "        Xy['Alone'] = Xy.FamilyTotalCount == 0\n",
    "        \n",
    "        self.Family_Total_Count = Xy['FamilyTotalCount']\n",
    "        self.Family_Survived_Count = Xy['FamilySurvivedCount']\n",
    "        self.Alone = Xy['Alone']\n",
    "        self.Family_Survival_Rate = Xy['FamilySurvivalRate']\n",
    "        \n",
    "        return self\n",
    "    def transform(self,X):\n",
    "        X = X.assign(Alone = self.Alone, FamilyTotalCount = self.Family_Total_Count,\n",
    "                     FamilySurvivedCount = self.Family_Survived_Count, FamilySurvivalRate = self.Family_Survival_Rate)\n",
    "        return X"
   ]
  },
  {
   "cell_type": "markdown",
   "id": "f183ba4d",
   "metadata": {},
   "source": [
    "### 2. Tách cách xưng hô và xử lý những giá trị thiếu"
   ]
  },
  {
   "cell_type": "markdown",
   "id": "b78ef66f",
   "metadata": {},
   "source": [
    "Theo như chúng ta thấy từ tên thì mỗi người đều có những cách xưng hô khác nhau như Mr, Master, Miss và chúng ta có thể tách chúng ra vì khi sử dụng hẳn tên khi đó sẽ khiến mô hình fit quá mức cần thiết vào tập train. \n",
    "\n",
    "Sau khi tách tên và tìm hiểu cách cách xưng hô xong chúng ta có thể gom những cách xưng hô hiếm về những dạng common hơn và chúng ta sẽ có tổ hợp cuối cùng là Mr, Miss, Mrs, Master, Royal và những cách xuất hiện ít còn lại là Others.\n",
    "\n",
    "Về việc chuyển tên gọi về Royal thì tham khảo ở https://www.kaggle.com/nadintamer/titanic-survival-predictions-beginner nhưng bổ sung thêm 1 số tên gọi trang trọng hoàng gia mà tác giả chưa cho vào như Dona, Jonkheer,... \n",
    "\n",
    "Đồng thời khi kiểm tra median tuổi thì chúng ta phát hiện ra những miss đi chung với cha mẹ có trung bình tuổi thấp hơn hẳn những miss đi 1 mình. Do trẻ em gái không có cách gọi riêng mà gọi chung là miss nên chúng ta có thể tách họ ra thành 1 cách gọi mới là FemaleChild\n",
    "\n",
    "Tiếp theo chúng ta sẽ điền giá trị thiếu. Vì giá trị tuổi của nữ và nam, từng class và từng cách xưng hô có sự khác biệt rõ ràng nên chúng ta sẽ điền tuổi dựa vào median của 3 nhóm đó.\n",
    "\n",
    "Đến phần giá vé thì thông thường giá vé sẽ tuỳ vào class trên tàu nên chúng ta sẽ điền bằng median của các class. Cuối cùng phần categorical là cảng xuất phát. Sau khi khai phá dữ liệu thì ta có thể thấy những người đi từ cảng S là nhiều hơn cả nên chúng ta sẽ điền lượng giá trị thiếu bằng giá trị xuất hiện nhiều nhất là S"
   ]
  },
  {
   "cell_type": "code",
   "execution_count": 15,
   "id": "e564c247",
   "metadata": {},
   "outputs": [],
   "source": [
    "class TitleAndFillMissing(BaseEstimator, TransformerMixin):\n",
    "    def __init__(self):\n",
    "        pass\n",
    "    def fit(self,X,y):\n",
    "        return self\n",
    "    def transform(self,X):\n",
    "        #Lấy cách xưng hô\n",
    "        title_col = X.Name.str.extract(r'([a-zA-z]+)\\.', expand=False)\n",
    "        X['Title'] = title_col\n",
    "        \n",
    "        #Chuyển đổi 1 số cách xưng hô hiếm về những dạng common hơn\n",
    "        X['Title'] = X['Title'].replace(['Capt', 'Col', 'Rev', 'Dr', 'Major'], 'Others')\n",
    "        X['Title'] = X['Title'].replace(['Countess', 'Lady', 'Sir', 'Jonkheer', 'Dona','Don'], 'Royal')\n",
    "        X['Title'] = X['Title'].replace('Mlle', 'Miss')\n",
    "        X['Title'] = X['Title'].replace('Ms', 'Miss')\n",
    "        X['Title'] = X['Title'].replace('Mme', 'Mrs')\n",
    "        X.loc[(X.Title=='Miss') & (X.Parch!=0), 'Title']=\"FemaleChild\"\n",
    "\n",
    "        \n",
    "        #Nhóm lại thành 1 nhóm để điền tuổi thiếu vào        \n",
    "        grouped = X.groupby(['Title','Pclass','Sex'])\n",
    "        X.Age = grouped.Age.apply(lambda x: x.fillna(x.median()))\n",
    "        \n",
    "        #Nhóm lại thành 1 nhóm để điền giá vé thiếu vào \n",
    "        grouped = X.groupby(['Pclass'])\n",
    "        X.Fare = grouped.Fare.apply(lambda x: x.fillna(x.median()))\n",
    "        \n",
    "        #Điền Embarked thiếu bằng giá trị xuất hiện nhiều nhất\n",
    "        X['Embarked'] = X['Embarked'].replace(np.nan,'S')\n",
    "        \n",
    "        return X"
   ]
  },
  {
   "cell_type": "markdown",
   "id": "99033820",
   "metadata": {},
   "source": [
    "### 3. Xử lý và gom nhóm các thành viên trong gia đình"
   ]
  },
  {
   "cell_type": "markdown",
   "id": "626d2de0",
   "metadata": {},
   "source": [
    "Theo như nội dung của tên columns thì Parch nghĩa là bố mẹ và con cái còn SibSp là anh chị em. Vì vậy thành viên gia đình chính là tổng số của 2 giá trị đó nên chúng ta sẽ gom lại thành 1\n",
    "\n",
    "Theo như quan sát dựa trên tỉ lệ tử vong và độ lớn của gia đình thì chúng ta có thể tách gia đình ra làm 3 nhóm với nhóm từ 2 đến 4 là nhóm có tỉ lệ sống sót cao nhất và 2 nhóm kia có tỉ lệ sống sót khá thấp"
   ]
  },
  {
   "cell_type": "code",
   "execution_count": 16,
   "id": "459258ae",
   "metadata": {},
   "outputs": [],
   "source": [
    "class Family(BaseEstimator, TransformerMixin):\n",
    "    def __init__(self):\n",
    "        pass\n",
    "    def fit(self,X,y):\n",
    "        return self\n",
    "    def transform(self,X):\n",
    "        X['FamilySize'] = X['Parch'] + X['SibSp'] + 1\n",
    "        X.loc[(X['FamilySize']==1),'Family'] = 0\n",
    "        X.loc[(X['FamilySize']<=4) & (X['FamilySize']>1),'Family'] = 1\n",
    "        X.loc[(X['FamilySize']>4),'Family'] = 2\n",
    "       \n",
    "        X.drop(columns = ['Parch','SibSp', 'FamilySize'], axis = 1, inplace = True)\n",
    "        \n",
    "        return X"
   ]
  },
  {
   "cell_type": "markdown",
   "id": "525b0374",
   "metadata": {},
   "source": [
    "### 4. Xử lý và gom nhóm tuổi"
   ]
  },
  {
   "cell_type": "markdown",
   "id": "156095cf",
   "metadata": {},
   "source": [
    "Chúng ta sẽ tách độ tuổi ra làm 4 phần dựa trên tổng số người trên tàu nhằm tránh việc mô hình quá fit vào tập train\n",
    "\n",
    "Tiếp theo chúng ta có thể để ý rằng những đứa trẻ có tỉ lệ sống sót cao hơn hẳn và dựa trên phần mô hình hoá thì chúng ta sẽ thấy tại khoảng 10 - 11 tuổi trở về trước trẻ em có khả năng sống sót khá cao so với phần còn lại nên chúng ta sẽ gom chúng thành 1 nhóm và đó là cột Child. Ở đây sử dụng giá trị là 11 do theo như phần mô hình hoá thì đó là điểm giao nhau giữa tỉ lệ tử vong và tỉ lệ sống sót của mô hình\n",
    "\n",
    "Vậy với những đứa trẻ không có tuổi do missing rồi sau đó điền lại bằng giá trị median khiến tuổi sẽ cao hơn con số 11 thì sao. Khi đó chúng ta sẽ thêm vào bằng cách bổ sung thêm vào cột Child nếu như đứa trẻ đó mang Title là Master hoặc là FemaleChild"
   ]
  },
  {
   "cell_type": "code",
   "execution_count": 17,
   "id": "9f581f5d",
   "metadata": {},
   "outputs": [],
   "source": [
    "#Age\n",
    "class Age(BaseEstimator, TransformerMixin):\n",
    "    def __init__(self):\n",
    "        pass\n",
    "    def fit(self,X,y):\n",
    "        return self\n",
    "    def transform(self,X):\n",
    "        X['Child'] = X.Age.apply(lambda x: 1 if x <=  11 else 0)\n",
    "        X['AgeCut'] = pd.qcut(X['Age'],4)\n",
    "        \n",
    "        boy_child_col = X['Name'].str.contains('Master.').astype(int)\n",
    "        X = X.assign(BoyChild=boy_child_col)\n",
    "        X['GirlChild'] = X['Title'].apply(lambda x : 1 if x == 'FemaleChild' else 0)        \n",
    "        X['Child'] = X['Child'] + X['BoyChild'] + X['GirlChild']\n",
    "        X['Child'] = X.Child.apply(lambda x: 1 if x >= 1 else x)\n",
    "        X.drop(columns = ['Age','BoyChild','GirlChild'], axis = 1, inplace = True)\n",
    "        \n",
    "        return X"
   ]
  },
  {
   "cell_type": "markdown",
   "id": "7d7d3580",
   "metadata": {},
   "source": [
    "### 5. Loại bỏ những cột không cần thiết"
   ]
  },
  {
   "cell_type": "markdown",
   "id": "0c687177",
   "metadata": {},
   "source": [
    "Cột Name chúng ta đã sử dụng để lấy surname và title hiện tại chúng không còn giá trị sử dụng nữa như đã nói ở trên nên chúng ta sẽ loại bỏ nó.\n",
    "\n",
    "Như chúng ta đã khám phá ở trên, cột cabin có đến tận 70% dữ liệu thiếu nên hầu như sẽ không giúp ích gì cả mà có thể khiến cho mô hình trở nên tệ hơn"
   ]
  },
  {
   "cell_type": "code",
   "execution_count": 18,
   "id": "e59a76a6",
   "metadata": {},
   "outputs": [],
   "source": [
    "class ColDropper(BaseEstimator, TransformerMixin):\n",
    "    def __init__(self):\n",
    "        pass\n",
    "    def fit(self,X,y):\n",
    "        return self\n",
    "    def transform(self,X):\n",
    "\n",
    "        X.drop(columns = ['Name','Cabin'], axis = 1, inplace = True)\n",
    "        \n",
    "        return X"
   ]
  },
  {
   "cell_type": "markdown",
   "id": "1fb13c68",
   "metadata": {},
   "source": [
    "## Training mô hình"
   ]
  },
  {
   "cell_type": "markdown",
   "id": "e21ac66c",
   "metadata": {},
   "source": [
    "## Thiết lập pipeline"
   ]
  },
  {
   "cell_type": "markdown",
   "id": "d6b2c8f7",
   "metadata": {},
   "source": [
    "Chúng ta sẽ ghép những bước xử lý dữ liệu trên thành 1 pipeline. Sau đó chúng ta sẽ đưa những cột có dạng categorical để one-hot encoding chúng. Cuối cùng chúng sa sẽ standard scaling cả tập dữ liệu lại bằng hàm StandardScaler."
   ]
  },
  {
   "cell_type": "code",
   "execution_count": 19,
   "id": "564bfbfd",
   "metadata": {},
   "outputs": [],
   "source": [
    "cate_cols = ['Embarked','Pclass','Title','Sex','Ticket','AgeCut','Alone']\n",
    "cat_transformer = Pipeline(steps=[\n",
    "    ('onehot', OneHotEncoder(sparse = False, handle_unknown='ignore'))])\n",
    "col_transformer = ColumnTransformer(transformers=[\n",
    "    ('cat', cat_transformer, cate_cols)])\n",
    "change_columns = Pipeline(steps = [\n",
    "    ('wb',WomanBoy()),\n",
    "    ('timi', TitleAndFillMissing()),\n",
    "    ('fami', Family()),\n",
    "    ('age',Age()),\n",
    "    ('drop', ColDropper())\n",
    "])\n",
    "preprocess_pipeline = Pipeline(steps=[\n",
    "    ('change_col', change_columns),\n",
    "    ('col_trans', col_transformer),\n",
    "    ('std', StandardScaler()),\n",
    "])"
   ]
  },
  {
   "cell_type": "code",
   "execution_count": 20,
   "id": "6451212d",
   "metadata": {},
   "outputs": [
    {
     "data": {
      "text/html": [
       "<div>\n",
       "<style scoped>\n",
       "    .dataframe tbody tr th:only-of-type {\n",
       "        vertical-align: middle;\n",
       "    }\n",
       "\n",
       "    .dataframe tbody tr th {\n",
       "        vertical-align: top;\n",
       "    }\n",
       "\n",
       "    .dataframe thead th {\n",
       "        text-align: right;\n",
       "    }\n",
       "</style>\n",
       "<table border=\"1\" class=\"dataframe\">\n",
       "  <thead>\n",
       "    <tr style=\"text-align: right;\">\n",
       "      <th></th>\n",
       "      <th>Pclass</th>\n",
       "      <th>Sex</th>\n",
       "      <th>Ticket</th>\n",
       "      <th>Fare</th>\n",
       "      <th>Embarked</th>\n",
       "      <th>Alone</th>\n",
       "      <th>FamilyTotalCount</th>\n",
       "      <th>FamilySurvivedCount</th>\n",
       "      <th>FamilySurvivalRate</th>\n",
       "      <th>Title</th>\n",
       "      <th>Family</th>\n",
       "      <th>Child</th>\n",
       "      <th>AgeCut</th>\n",
       "    </tr>\n",
       "    <tr>\n",
       "      <th>PassengerId</th>\n",
       "      <th></th>\n",
       "      <th></th>\n",
       "      <th></th>\n",
       "      <th></th>\n",
       "      <th></th>\n",
       "      <th></th>\n",
       "      <th></th>\n",
       "      <th></th>\n",
       "      <th></th>\n",
       "      <th></th>\n",
       "      <th></th>\n",
       "      <th></th>\n",
       "      <th></th>\n",
       "    </tr>\n",
       "  </thead>\n",
       "  <tbody>\n",
       "    <tr>\n",
       "      <th>1</th>\n",
       "      <td>3</td>\n",
       "      <td>male</td>\n",
       "      <td>A/5 21171</td>\n",
       "      <td>7.2500</td>\n",
       "      <td>S</td>\n",
       "      <td>True</td>\n",
       "      <td>0</td>\n",
       "      <td>0</td>\n",
       "      <td>NaN</td>\n",
       "      <td>Mr</td>\n",
       "      <td>1.0</td>\n",
       "      <td>0</td>\n",
       "      <td>(21.0, 26.0]</td>\n",
       "    </tr>\n",
       "    <tr>\n",
       "      <th>2</th>\n",
       "      <td>1</td>\n",
       "      <td>female</td>\n",
       "      <td>PC 17599</td>\n",
       "      <td>71.2833</td>\n",
       "      <td>C</td>\n",
       "      <td>True</td>\n",
       "      <td>0</td>\n",
       "      <td>0</td>\n",
       "      <td>NaN</td>\n",
       "      <td>Mrs</td>\n",
       "      <td>1.0</td>\n",
       "      <td>0</td>\n",
       "      <td>(36.75, 80.0]</td>\n",
       "    </tr>\n",
       "    <tr>\n",
       "      <th>3</th>\n",
       "      <td>3</td>\n",
       "      <td>female</td>\n",
       "      <td>STON/O2. 3101282</td>\n",
       "      <td>7.9250</td>\n",
       "      <td>S</td>\n",
       "      <td>True</td>\n",
       "      <td>0</td>\n",
       "      <td>0</td>\n",
       "      <td>NaN</td>\n",
       "      <td>Miss</td>\n",
       "      <td>0.0</td>\n",
       "      <td>0</td>\n",
       "      <td>(21.0, 26.0]</td>\n",
       "    </tr>\n",
       "    <tr>\n",
       "      <th>4</th>\n",
       "      <td>1</td>\n",
       "      <td>female</td>\n",
       "      <td>113803</td>\n",
       "      <td>53.1000</td>\n",
       "      <td>S</td>\n",
       "      <td>True</td>\n",
       "      <td>0</td>\n",
       "      <td>0</td>\n",
       "      <td>NaN</td>\n",
       "      <td>Mrs</td>\n",
       "      <td>1.0</td>\n",
       "      <td>0</td>\n",
       "      <td>(26.0, 36.75]</td>\n",
       "    </tr>\n",
       "    <tr>\n",
       "      <th>5</th>\n",
       "      <td>3</td>\n",
       "      <td>male</td>\n",
       "      <td>373450</td>\n",
       "      <td>8.0500</td>\n",
       "      <td>S</td>\n",
       "      <td>False</td>\n",
       "      <td>1</td>\n",
       "      <td>1</td>\n",
       "      <td>1.0</td>\n",
       "      <td>Mr</td>\n",
       "      <td>0.0</td>\n",
       "      <td>0</td>\n",
       "      <td>(26.0, 36.75]</td>\n",
       "    </tr>\n",
       "    <tr>\n",
       "      <th>...</th>\n",
       "      <td>...</td>\n",
       "      <td>...</td>\n",
       "      <td>...</td>\n",
       "      <td>...</td>\n",
       "      <td>...</td>\n",
       "      <td>...</td>\n",
       "      <td>...</td>\n",
       "      <td>...</td>\n",
       "      <td>...</td>\n",
       "      <td>...</td>\n",
       "      <td>...</td>\n",
       "      <td>...</td>\n",
       "      <td>...</td>\n",
       "    </tr>\n",
       "    <tr>\n",
       "      <th>887</th>\n",
       "      <td>2</td>\n",
       "      <td>male</td>\n",
       "      <td>211536</td>\n",
       "      <td>13.0000</td>\n",
       "      <td>S</td>\n",
       "      <td>True</td>\n",
       "      <td>0</td>\n",
       "      <td>0</td>\n",
       "      <td>NaN</td>\n",
       "      <td>Others</td>\n",
       "      <td>0.0</td>\n",
       "      <td>0</td>\n",
       "      <td>(26.0, 36.75]</td>\n",
       "    </tr>\n",
       "    <tr>\n",
       "      <th>888</th>\n",
       "      <td>1</td>\n",
       "      <td>female</td>\n",
       "      <td>112053</td>\n",
       "      <td>30.0000</td>\n",
       "      <td>S</td>\n",
       "      <td>False</td>\n",
       "      <td>1</td>\n",
       "      <td>1</td>\n",
       "      <td>1.0</td>\n",
       "      <td>Miss</td>\n",
       "      <td>0.0</td>\n",
       "      <td>0</td>\n",
       "      <td>(0.419, 21.0]</td>\n",
       "    </tr>\n",
       "    <tr>\n",
       "      <th>889</th>\n",
       "      <td>3</td>\n",
       "      <td>female</td>\n",
       "      <td>W./C. 6607</td>\n",
       "      <td>23.4500</td>\n",
       "      <td>S</td>\n",
       "      <td>True</td>\n",
       "      <td>0</td>\n",
       "      <td>0</td>\n",
       "      <td>NaN</td>\n",
       "      <td>FemaleChild</td>\n",
       "      <td>1.0</td>\n",
       "      <td>1</td>\n",
       "      <td>(0.419, 21.0]</td>\n",
       "    </tr>\n",
       "    <tr>\n",
       "      <th>890</th>\n",
       "      <td>1</td>\n",
       "      <td>male</td>\n",
       "      <td>111369</td>\n",
       "      <td>30.0000</td>\n",
       "      <td>C</td>\n",
       "      <td>True</td>\n",
       "      <td>0</td>\n",
       "      <td>0</td>\n",
       "      <td>NaN</td>\n",
       "      <td>Mr</td>\n",
       "      <td>0.0</td>\n",
       "      <td>0</td>\n",
       "      <td>(21.0, 26.0]</td>\n",
       "    </tr>\n",
       "    <tr>\n",
       "      <th>891</th>\n",
       "      <td>3</td>\n",
       "      <td>male</td>\n",
       "      <td>370376</td>\n",
       "      <td>7.7500</td>\n",
       "      <td>Q</td>\n",
       "      <td>True</td>\n",
       "      <td>0</td>\n",
       "      <td>0</td>\n",
       "      <td>NaN</td>\n",
       "      <td>Mr</td>\n",
       "      <td>0.0</td>\n",
       "      <td>0</td>\n",
       "      <td>(26.0, 36.75]</td>\n",
       "    </tr>\n",
       "  </tbody>\n",
       "</table>\n",
       "<p>891 rows × 13 columns</p>\n",
       "</div>"
      ],
      "text/plain": [
       "             Pclass     Sex            Ticket     Fare Embarked  Alone  \\\n",
       "PassengerId                                                              \n",
       "1                 3    male         A/5 21171   7.2500        S   True   \n",
       "2                 1  female          PC 17599  71.2833        C   True   \n",
       "3                 3  female  STON/O2. 3101282   7.9250        S   True   \n",
       "4                 1  female            113803  53.1000        S   True   \n",
       "5                 3    male            373450   8.0500        S  False   \n",
       "...             ...     ...               ...      ...      ...    ...   \n",
       "887               2    male            211536  13.0000        S   True   \n",
       "888               1  female            112053  30.0000        S  False   \n",
       "889               3  female        W./C. 6607  23.4500        S   True   \n",
       "890               1    male            111369  30.0000        C   True   \n",
       "891               3    male            370376   7.7500        Q   True   \n",
       "\n",
       "             FamilyTotalCount  FamilySurvivedCount  FamilySurvivalRate  \\\n",
       "PassengerId                                                              \n",
       "1                           0                    0                 NaN   \n",
       "2                           0                    0                 NaN   \n",
       "3                           0                    0                 NaN   \n",
       "4                           0                    0                 NaN   \n",
       "5                           1                    1                 1.0   \n",
       "...                       ...                  ...                 ...   \n",
       "887                         0                    0                 NaN   \n",
       "888                         1                    1                 1.0   \n",
       "889                         0                    0                 NaN   \n",
       "890                         0                    0                 NaN   \n",
       "891                         0                    0                 NaN   \n",
       "\n",
       "                   Title  Family  Child         AgeCut  \n",
       "PassengerId                                             \n",
       "1                     Mr     1.0      0   (21.0, 26.0]  \n",
       "2                    Mrs     1.0      0  (36.75, 80.0]  \n",
       "3                   Miss     0.0      0   (21.0, 26.0]  \n",
       "4                    Mrs     1.0      0  (26.0, 36.75]  \n",
       "5                     Mr     0.0      0  (26.0, 36.75]  \n",
       "...                  ...     ...    ...            ...  \n",
       "887               Others     0.0      0  (26.0, 36.75]  \n",
       "888                 Miss     0.0      0  (0.419, 21.0]  \n",
       "889          FemaleChild     1.0      1  (0.419, 21.0]  \n",
       "890                   Mr     0.0      0   (21.0, 26.0]  \n",
       "891                   Mr     0.0      0  (26.0, 36.75]  \n",
       "\n",
       "[891 rows x 13 columns]"
      ]
     },
     "execution_count": 20,
     "metadata": {},
     "output_type": "execute_result"
    }
   ],
   "source": [
    "check = change_columns.fit_transform(X_df,y_df)\n",
    "check"
   ]
  },
  {
   "cell_type": "markdown",
   "id": "d5850c82",
   "metadata": {},
   "source": [
    "Vậy những feature cuối cùng chúng ta lấy là: \n",
    "Pclass: Class của hành khách\n",
    "<br>Sex: Giới tính của hành khách\n",
    "<br>Ticket: Vé của hành khách\n",
    "<br>Fare: Giá tiền vé của hành khách\n",
    "<br>Embarked: Cảng hành khách dùng khi lên tàu\n",
    "<br>Alone: Người phụ nữ hoặc trẻ em nam đi 1 mình\n",
    "<br>FamilyTotalCount: Tổng số phụ nữ và trẻ em nam trong 1 gia đình\n",
    "<br>FamilySurvivedCount: Tổng số phụ nữ và trẻ em nam còn sống trong 1 gia đình\n",
    "<br>FamilySurvivalRate: Tỉ lệ người sống sót trong 1 gia đình tạo ra bởi phụ nữ và trẻ em nam\n",
    "<br>Family: Loại gia đình mà người đó thuộc về: 0 đối với người đi 1 mình, 1 đối với gia đình 2-4 người và 2 đối với gia đình trên 4 người\n",
    "<br>Child: Trẻ em \n",
    "<br>AgeCut: Khoảng tuổi được cắt ra dựa trên trung bình số hành khách"
   ]
  },
  {
   "cell_type": "markdown",
   "id": "637017e3",
   "metadata": {},
   "source": [
    "Chúng ta sẽ tạo ra 1 pipeline hoàn chỉnh. Với mô hình này em sử dụng 1 siêu tham số là max_depth vì theo em thấy tập dữ liệu này khá nhỏ nên việc max_depth quá cao sẽ dẫn đến việc bị overfitting. Khi em thử với giá trị max_depth = 3 thì giá trị AUC trung bình của em đạt 85.91% nhưng điểm trên leaderboard chỉ đạt 78.70% còn khi thử với giá trị là 2 thì AUC trung bình của em thấp hơn 1 tí 84.82% nhưng điểm trên leaderboard thì được 80.14%"
   ]
  },
  {
   "cell_type": "code",
   "execution_count": 21,
   "id": "50024f79",
   "metadata": {},
   "outputs": [],
   "source": [
    "LGBM_pipeline = Pipeline(steps=[\n",
    "    ('prep_pipeline',preprocess_pipeline),\n",
    "    ('gradient_boosting',LGBMClassifier(max_depth = 2))])"
   ]
  },
  {
   "cell_type": "markdown",
   "id": "1a796109",
   "metadata": {},
   "source": [
    "### Training"
   ]
  },
  {
   "cell_type": "markdown",
   "id": "fb5f16b0",
   "metadata": {},
   "source": [
    "Chúng ta sẽ chia mô hình thành 5 phần ngẫu nhiên và chúng ta sẽ tiến hành cho máy học với 4 phần và dự đoán đối với tập test để đưa ra tỉ lệ có khả năng là đối với đối tượng đó có bao nhiêu % khả năng là 0 (chết) và 1 (sống) và lưu vào 1 dataframe để xử lý sau. Xoay tua liên tục 5 lần đến khi toàn bộ mô hình đều đã được học và được dự đoán\n",
    "\n",
    "Sau đó chúng ta sẽ kiểm tra điểm AUC của mô hình bằng tập validation chưa được training đã được tách ra để xem giá trị AUC của từng đợt train và trung bình của toàn mô hình là bao nhiêu"
   ]
  },
  {
   "cell_type": "code",
   "execution_count": 22,
   "id": "20fec4a2",
   "metadata": {},
   "outputs": [
    {
     "name": "stdout",
     "output_type": "stream",
     "text": [
      "Fold 1\n",
      "auc score val 1: 0.7790513833992094\n",
      "\n",
      "Fold 2\n",
      "auc score val 2: 0.8286096256684492\n",
      "\n",
      "Fold 3\n",
      "auc score val 3: 0.8994652406417113\n",
      "\n",
      "Fold 4\n",
      "auc score val 4: 0.8921791443850268\n",
      "\n",
      "Fold 5\n",
      "auc score val 5: 0.8286796968488233\n",
      "\n",
      "Auc score trung bình:0.8455970181886439\n"
     ]
    }
   ],
   "source": [
    "NFOLD = 5\n",
    "skf = StratifiedKFold(n_splits=NFOLD, shuffle=True)\n",
    "test_df = pd.read_csv('test.csv', index_col=0)\n",
    "LGBM = []\n",
    "probs = pd.DataFrame(np.zeros((len(test_df), NFOLD * 2)), \n",
    "                     columns=['Fold_{}_Prob_{}'.format(i, j) for i in range(1, NFOLD + 1) for j in range(2)])\n",
    "for fold, (trn_idx, val_idx) in enumerate(skf.split(X_df, y_df), 1):\n",
    "    print('Fold {}'.format(fold))\n",
    "    LGBM_pipeline.fit(X_df.iloc[trn_idx], y_df.iloc[trn_idx])\n",
    "    probs.loc[:, 'Fold_{}_Prob_0'.format(fold)] = LGBM_pipeline.predict_proba(test_df)[:, 0]\n",
    "    probs.loc[:, 'Fold_{}_Prob_1'.format(fold)] = LGBM_pipeline.predict_proba(test_df)[:, 1]\n",
    "    val_fpr, val_tpr, val_thresholds = roc_curve(y_df.iloc[val_idx], LGBM_pipeline.predict_proba(X_df.iloc[val_idx])[:, 1])\n",
    "    val_auc_score = auc(val_fpr, val_tpr)\n",
    "    print ('auc score val ' + str(fold) + ': ' + str(val_auc_score) + '\\n')\n",
    "    LGBM.append(val_auc_score)\n",
    "print('Auc score trung bình:' + str(sum(LGBM)/NFOLD))"
   ]
  },
  {
   "cell_type": "markdown",
   "id": "64b36a01",
   "metadata": {},
   "source": [
    "### Dự đoán"
   ]
  },
  {
   "cell_type": "markdown",
   "id": "251fa5ca",
   "metadata": {},
   "source": [
    "Chúng ta sẽ lấy tỉ lệ dự đoán khả năng sống chết từ 5 mô hình ở trên và lấy trung bình của chúng. Nếu như tỉ lệ sống cao hơn thì chúng ta sẽ dự đoán đối tượng đó là 1 và ngược lại"
   ]
  },
  {
   "cell_type": "code",
   "execution_count": 23,
   "id": "9a557666",
   "metadata": {},
   "outputs": [],
   "source": [
    "class_survived = [col for col in probs.columns if col.endswith('Prob_1')]\n",
    "class_unsurvived = [col for col in probs.columns if col.endswith('Prob_0')]\n",
    "probs['1'] = probs[class_survived].sum(axis=1) / NFOLD\n",
    "probs['0'] = probs[class_unsurvived].sum(axis=1) / NFOLD\n",
    "probs['pred'] = 0\n",
    "pos = probs[probs['1'] >= probs['0']].index\n",
    "probs.loc[pos, 'pred'] = 1\n",
    "\n",
    "y_pred = probs['pred'].astype(int)"
   ]
  },
  {
   "cell_type": "markdown",
   "id": "567a5ac7",
   "metadata": {},
   "source": [
    "Lưu lại dữ liệu dự đoán vào file csv để submit lên kaggle"
   ]
  },
  {
   "cell_type": "code",
   "execution_count": 24,
   "id": "45ade411",
   "metadata": {},
   "outputs": [],
   "source": [
    "pass_ID = test_df.index.values\n",
    "my_preds = pd.DataFrame({'PassengerId': pass_ID, 'Survived': y_pred}, \n",
    "                        columns=['PassengerId','Survived']).set_index('PassengerId')\n",
    "my_preds.to_csv('Final.csv')"
   ]
  },
  {
   "cell_type": "markdown",
   "id": "0fe45ff2",
   "metadata": {},
   "source": [
    "# Kết quả"
   ]
  },
  {
   "cell_type": "markdown",
   "id": "55583112",
   "metadata": {},
   "source": [
    "Kết quả submit\n",
    "![title](KaggleSubmit.png)"
   ]
  },
  {
   "cell_type": "markdown",
   "id": "72aaa75b",
   "metadata": {},
   "source": [
    "Số lần submit\n",
    "![title](NumKaggleSubmit.png)"
   ]
  },
  {
   "cell_type": "markdown",
   "id": "58069a03",
   "metadata": {},
   "source": [
    "Kết quả trên leaderboard\n",
    "![title](KaggleLeaderboard.png)"
   ]
  }
 ],
 "metadata": {
  "kernelspec": {
   "display_name": "Python 3 (ipykernel)",
   "language": "python",
   "name": "python3"
  },
  "language_info": {
   "codemirror_mode": {
    "name": "ipython",
    "version": 3
   },
   "file_extension": ".py",
   "mimetype": "text/x-python",
   "name": "python",
   "nbconvert_exporter": "python",
   "pygments_lexer": "ipython3",
   "version": "3.9.7"
  }
 },
 "nbformat": 4,
 "nbformat_minor": 5
}
